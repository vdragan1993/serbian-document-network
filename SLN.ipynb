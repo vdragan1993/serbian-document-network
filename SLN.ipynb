{
 "cells": [
  {
   "cell_type": "markdown",
   "metadata": {},
   "source": [
    "# Serbian Legislation Network"
   ]
  },
  {
   "cell_type": "markdown",
   "metadata": {},
   "source": [
    "### Describing Serbian legislation system as a complex network."
   ]
  },
  {
   "cell_type": "markdown",
   "metadata": {},
   "source": [
    "## Data\n",
    "\n",
    "The latest version of each current legal document is available at <a href=\"http://www.pravno-informacioni-sistem.rs/SlGlasnikPortal/reg/advancedSearch\">Serbian Legal Information System website</a>. <a href=\"https://github.com/vdragan1993/serbian-document-network/blob/master/src/crawler.py\">Crawler</a> and <a href=\"https://github.com/vdragan1993/serbian-document-network/blob/master/src/scraper.py\">Scraper</a> were developed in order to collect all republican legislations with their ID card and list of related regulations. Only legislations with ID card were scraped. Original collected data can be found in <a href=\"https://github.com/vdragan1993/serbian-document-network/tree/master/dataset/original_data\">dataset/original_data/</a>."
   ]
  },
  {
   "cell_type": "markdown",
   "metadata": {},
   "source": [
    "## Network\n",
    "\n",
    "In order to create legislation network, nodes and their links needs to be created. \n",
    "\n",
    "### Nodes\n",
    "\n",
    "Every collected document is a node. List of document names extracted from their ID cards with custom made id number can be found in <a href=\"https://github.com/vdragan1993/serbian-document-network/blob/master/dataset/new_data/new_num_doc_sorted.txt\">dataset/new_data/</a>.\n",
    "\n",
    "### Links\n",
    "\n",
    "Links between nodes are full-explicit references. References extraction process for every document:\n",
    "\n",
    "1. Converting Serbian Cyrillic to Latin, and replacing special characters with their ASCII pairs (č -> c, š -> s...)\n",
    "2. Tokenization\n",
    "3. Stemming using <a href=\"https://github.com/vdragan1993/serbian-stemmer\">Serbian Stemmer</a>\n",
    "4. Joining stemmed words into space-separated text\n",
    "5. Searching for collected document names in joined text\n",
    "6. Saving detected reference in <b>this_document_name\\t\\t\\tfound_document_name</b> format\n",
    "\n",
    "After this, all detected references were aggregated into one document. Also, another document was created by replacing document names with their custom made id numbers.\n",
    "\n",
    "Result of this process are references by <a href=\"https://github.com/vdragan1993/serbian-document-network/blob/master/dataset/new_data/all_text_lines.txt\">document name</a> and <a href=\"https://github.com/vdragan1993/serbian-document-network/blob/master/dataset/new_data/all_num_lines.txt\">document id</a>, and this documents are our legislation network. Also, references detected in every document can be found in <a href=\"https://github.com/vdragan1993/serbian-document-network/tree/master/dataset/new_data/graph\">dataset/new_data/graph/</a>.\n",
    "\n",
    "In order to evaluate process accuracy, full-explicit references were manually detected in 10 randomly selected documents. After validation, obtained accuracy of references extraction process was: %."
   ]
  },
  {
   "cell_type": "code",
   "execution_count": 1,
   "metadata": {
    "collapsed": false
   },
   "outputs": [],
   "source": [
    "# imports\n",
    "import pandas as pd\n",
    "import codecs\n",
    "import graphistry\n",
    "import warnings\n",
    "import networkx as nx\n",
    "from networkx.algorithms import assortativity as assort\n",
    "from networkx.algorithms import centrality as central\n",
    "import matplotlib.pyplot as plt\n",
    "from collections import OrderedDict\n",
    "from operator import itemgetter\n",
    "from collections import Counter\n",
    "from itertools import islice\n",
    "import numpy as np\n",
    "import igraph as ig\n",
    "# setup\n",
    "warnings.filterwarnings('ignore')\n",
    "api_key = open('API_key.txt').read()\n",
    "graphistry.register(key=api_key)\n",
    "%matplotlib inline"
   ]
  },
  {
   "cell_type": "code",
   "execution_count": 2,
   "metadata": {
    "collapsed": true
   },
   "outputs": [],
   "source": [
    "def load_num_doc(file_path):\n",
    "    \"\"\"\n",
    "    Reading num - doc dictonary for mapping document name and id\n",
    "    \"\"\"\n",
    "    f = codecs.open(file_path, 'r', 'utf8')\n",
    "    lines = f.readlines()\n",
    "    f.close()\n",
    "    num_doc_mapper = {}\n",
    "    clean_lines = [line[:-2] for line in lines if line.endswith('\\r\\n')]\n",
    "    clean_lines.append(lines[-1])\n",
    "    for line in clean_lines:\n",
    "        number = int(line.split(',')[0])\n",
    "        text = line[len(str(number))+1:]\n",
    "        num_doc_mapper[number] = text\n",
    "    return num_doc_mapper"
   ]
  },
  {
   "cell_type": "code",
   "execution_count": 3,
   "metadata": {
    "collapsed": true
   },
   "outputs": [],
   "source": [
    "def sort_dictionary_by_value_asc(input_dict):\n",
    "    output_dict = OrderedDict(sorted(input_dict.items(), key=itemgetter(1)))\n",
    "    return output_dict\n",
    "\n",
    "def sort_dictionary_by_value_desc(input_dict):\n",
    "    output_dict = OrderedDict(sorted(input_dict.items(), key=itemgetter(1)))\n",
    "    return output_dict"
   ]
  },
  {
   "cell_type": "code",
   "execution_count": 4,
   "metadata": {
    "collapsed": false,
    "scrolled": true
   },
   "outputs": [
    {
     "name": "stdout",
     "output_type": "stream",
     "text": [
      "                                                 src                    dest\n",
      "0  ustavni zakon za sprovodjenje ustava republike...  zakon o ministarstvima\n",
      "1  ustavni zakon za sprovodjenje ustava republike...  ustav republike srbije\n",
      "2  uredba o prestanku vazenja uredbe o osnivanju ...           zakon o vladi\n",
      "3                       uredba o vojnoj legitimaciji           zakon o vladi\n",
      "4                       uredba o vojnoj legitimaciji   zakon o vojsci srbije\n"
     ]
    }
   ],
   "source": [
    "# reading graph\n",
    "edges = pd.read_csv('dataset/new_data/all_text_lines.txt', sep='\\t\\t\\t', names=['src', 'dest'])\n",
    "print(edges.head())\n",
    "# reading igraph from file\n",
    "this_igraph = ig.Graph.Read_Ncol('dataset/new_data/all_num_lines.txt', directed=True)"
   ]
  },
  {
   "cell_type": "code",
   "execution_count": 5,
   "metadata": {
    "collapsed": false
   },
   "outputs": [
    {
     "data": {
      "text/html": [
       "\n",
       "            <iframe id=\"533da4bd-34ea-48f7-92f6-e14626f98d57\" src=\"https://labs.graphistry.com/graph/graph.html?dataset=PyGraphistry/55YRLER71D&type=vgraph&viztoken=0aeebb1f88be232f5b4eb518b1f6546d97187716&usertag=19ce4588-pygraphistry-0.9.43&splashAfter=1493160508&info=true\"\n",
       "                    allowfullscreen=\"true\" webkitallowfullscreen=\"true\" mozallowfullscreen=\"true\"\n",
       "                    oallowfullscreen=\"true\" msallowfullscreen=\"true\"\n",
       "                    style=\"width:100%; height:500px; border: 1px solid #DDD\">\n",
       "            </iframe>\n",
       "        \n",
       "            <script>\n",
       "                $(\"#533da4bd-34ea-48f7-92f6-e14626f98d57\").bind('mousewheel', function(e) {\n",
       "                e.preventDefault();\n",
       "                });\n",
       "            </script>\n",
       "        "
      ],
      "text/plain": [
       "<IPython.core.display.HTML object>"
      ]
     },
     "execution_count": 5,
     "metadata": {},
     "output_type": "execute_result"
    }
   ],
   "source": [
    "# visualization using graphistry\n",
    "graphistry.bind(source='src', destination='dest').plot(edges)"
   ]
  },
  {
   "cell_type": "markdown",
   "metadata": {},
   "source": [
    "## Network Science Measures"
   ]
  },
  {
   "cell_type": "code",
   "execution_count": 6,
   "metadata": {
    "collapsed": false,
    "scrolled": true
   },
   "outputs": [
    {
     "name": "stdout",
     "output_type": "stream",
     "text": [
      "Name: \n",
      "Type: DiGraph\n",
      "Number of nodes: 5391\n",
      "Number of edges: 17343\n",
      "Average in degree:   3.2170\n",
      "Average out degree:   3.2170\n"
     ]
    }
   ],
   "source": [
    "# reading num - name dictionary\n",
    "num_doc_mapper = load_num_doc('dataset/new_data/new_num_doc_sorted.txt')\n",
    "\n",
    "# reading and creating network using networkx\n",
    "graph = nx.read_edgelist('dataset/new_data/all_num_lines.txt', create_using=nx.DiGraph(), nodetype=int)\n",
    "print(nx.info(graph))"
   ]
  },
  {
   "cell_type": "code",
   "execution_count": 7,
   "metadata": {
    "collapsed": false
   },
   "outputs": [
    {
     "name": "stdout",
     "output_type": "stream",
     "text": [
      "Nodes with highest degrees: (in + out)\n",
      "\n",
      "zakon o vladi: 1492 (1482 + 10)\n",
      "\n",
      "zakon o planiranju i izgradnji: 319 (284 + 35)\n",
      "\n",
      "zakon o radu: 310 (290 + 20)\n",
      "\n",
      "zakon o zastiti zivotne sredine: 302 (282 + 20)\n",
      "\n",
      "zakon o carinskoj tarifi: 289 (289 + 0)\n",
      "\n"
     ]
    }
   ],
   "source": [
    "# highest degrees\n",
    "print(\"Nodes with highest degrees: (in + out)\\n\")\n",
    "degrees_high = sort_dictionary_by_value_desc(graph.degree())\n",
    "degrees_high_count = Counter(degrees_high)\n",
    "for k, v in degrees_high_count.most_common(5):\n",
    "    print('%s: %i (%i + %i)\\n' % (num_doc_mapper[k], v, graph.in_degree(k), graph.out_degree(k)))"
   ]
  },
  {
   "cell_type": "code",
   "execution_count": 8,
   "metadata": {
    "collapsed": false
   },
   "outputs": [
    {
     "name": "stdout",
     "output_type": "stream",
     "text": [
      "Nodes with lowest degrees: (in + out)\n",
      "\n",
      "pravilnik o upotrebi grba, zastave i himne republike srbije u diplomatsko-konzularnim predstavnistvima republike srbije i na zvanicnim dokumentima ministarstva spoljnih poslova: 1 (0 + 1)\n",
      "\n",
      "pravilnik o blizim uslovima za cuvanje, upravljanje i distribuciju krvi i komponenata krvi: 1 (0 + 1)\n",
      "\n",
      "zakljucak o upotrebi grba, zastave i himne republike srbije: 1 (1 + 0)\n",
      "\n",
      "pravilnik o sistemu pracenja, nacinu oznacavanja i drugim pitanjima od znacaja za identifikaciju svakog pojedinacnog uzimanja krvi, odnosno pojedinacne jedinice krvi, kao i o nacinu, postupku i sadrzaju obrasca za prijavljivanje ozbiljnih nezeljenih dogadjaja, odnosno ozbiljnih nezeljenih reakcija: 1 (0 + 1)\n",
      "\n",
      "pravilnik o nacinu upisa cinjenice drzavljanstva u maticnu knjigu rodjenih, obrascima za vodjenje evidencija o resenjima o sticanju i prestanku drzavljanstva i obrascu uverenja o drzavljanstvu: 1 (0 + 1)\n",
      "\n"
     ]
    }
   ],
   "source": [
    "# lowest degrees\n",
    "print(\"Nodes with lowest degrees: (in + out)\\n\")\n",
    "deegrees_low = sort_dictionary_by_value_asc(graph.degree())\n",
    "deegrees_low_count = islice(deegrees_low.items(), 0, 5)\n",
    "for k, v in deegrees_low_count:\n",
    "    print('%s: %i (%i + %i)\\n' % (num_doc_mapper[k], v, graph.in_degree(k), graph.out_degree(k)))"
   ]
  },
  {
   "cell_type": "code",
   "execution_count": 9,
   "metadata": {
    "collapsed": false
   },
   "outputs": [
    {
     "name": "stdout",
     "output_type": "stream",
     "text": [
      "Nodes with highest in degrees:\n",
      "\n",
      "zakon o vladi: 1482\n",
      "\n",
      "zakon o radu: 290\n",
      "\n",
      "zakon o carinskoj tarifi: 289\n",
      "\n",
      "zakon o planiranju i izgradnji: 284\n",
      "\n",
      "zakon o zastiti zivotne sredine: 282\n",
      "\n"
     ]
    }
   ],
   "source": [
    "# highest in_degrees\n",
    "print(\"Nodes with highest in degrees:\\n\")\n",
    "in_degrees_high = sort_dictionary_by_value_desc(graph.in_degree())\n",
    "in_degrees_high_count = Counter(in_degrees_high)\n",
    "for k, v in in_degrees_high_count.most_common(5):\n",
    "    print('%s: %i\\n' % (num_doc_mapper[k], v))"
   ]
  },
  {
   "cell_type": "code",
   "execution_count": 10,
   "metadata": {
    "collapsed": false
   },
   "outputs": [
    {
     "name": "stdout",
     "output_type": "stream",
     "text": [
      "Nodes with highest out degrees:\n",
      "\n",
      "strategija prevencije i zastite od diskriminacije: 76\n",
      "\n",
      "zakljucak (o usvajanju nacionalnog akcionog plana za koriscenje obnovljivih izvora energije republike srbije): 73\n",
      "\n",
      "zakljucak o usvajanju treceg akcionog plana za energetsku efikasnost republike srbije za period do 2018. godine: 67\n",
      "\n",
      "uredba o utvrdjivanju prostornog plana podrucja posebne namene za infrastrukturni koridor visokonaponskog dalekovoda 110 kv broj 113/x od ts nis 1 do vrle III: 64\n",
      "\n",
      "strategija reforme javne uprave u republici srbiji: 59\n",
      "\n"
     ]
    }
   ],
   "source": [
    "# highest out_degrees\n",
    "print(\"Nodes with highest out degrees:\\n\")\n",
    "out_degrees_high = sort_dictionary_by_value_desc(graph.out_degree())\n",
    "out_degrees_high_count = Counter(out_degrees_high)\n",
    "for k, v in out_degrees_high_count.most_common(5):\n",
    "    print('%s: %i\\n' % (num_doc_mapper[k], v))"
   ]
  },
  {
   "cell_type": "code",
   "execution_count": 11,
   "metadata": {
    "collapsed": false
   },
   "outputs": [
    {
     "name": "stdout",
     "output_type": "stream",
     "text": [
      "Graph diameter: 14\n",
      "Average path length: 4.698433048179542\n",
      "Graph density: 0.0005982622724812088\n"
     ]
    }
   ],
   "source": [
    "print(\"Graph diameter: {0}\".format(this_igraph.diameter()))\n",
    "print(\"Average path length: {0}\".format(this_igraph.average_path_length()))\n",
    "print(\"Graph density: {0}\".format(this_igraph.density()))"
   ]
  },
  {
   "cell_type": "markdown",
   "metadata": {},
   "source": [
    "## Cycles\n",
    "\n",
    "Cycle found via a directed, depth-first traversal."
   ]
  },
  {
   "cell_type": "code",
   "execution_count": 12,
   "metadata": {
    "collapsed": false
   },
   "outputs": [
    {
     "name": "stdout",
     "output_type": "stream",
     "text": [
      "Cycles: \n",
      "\n",
      "zakon o drzavnoj upravi --> zakon o javnim sluzbama\n",
      "\n",
      "zakon o javnim sluzbama --> zakon o zdravstvenoj zastiti\n",
      "\n",
      "zakon o zdravstvenoj zastiti --> zakon o budzetskom sistemu\n",
      "\n",
      "zakon o budzetskom sistemu --> zakon o platama drzavnih sluzbenika i namestenika\n",
      "\n",
      "zakon o platama drzavnih sluzbenika i namestenika --> uredba o koeficijentima za obracun i isplatu plata imenovanih i postavljenih lica i zaposlenih u drzavnim organima\n",
      "\n",
      "uredba o koeficijentima za obracun i isplatu plata imenovanih i postavljenih lica i zaposlenih u drzavnim organima --> poslovnik vlade\n",
      "\n",
      "poslovnik vlade --> zakon o drzavnoj upravi\n",
      "\n"
     ]
    }
   ],
   "source": [
    "print(\"Cycles: \\n\")\n",
    "cycles = nx.algorithms.find_cycle(graph)\n",
    "for cycle in cycles:\n",
    "    print('%s --> %s\\n' % (num_doc_mapper[cycle[0]], num_doc_mapper[cycle[1]]))"
   ]
  },
  {
   "cell_type": "markdown",
   "metadata": {},
   "source": [
    "## Assortativity"
   ]
  },
  {
   "cell_type": "markdown",
   "metadata": {},
   "source": [
    "The average degree connectivity is the average nearest neighbor degree of nodes with degree k."
   ]
  },
  {
   "cell_type": "code",
   "execution_count": 13,
   "metadata": {
    "collapsed": false
   },
   "outputs": [
    {
     "name": "stdout",
     "output_type": "stream",
     "text": [
      "Nodes with highest average degree connectivity: \n",
      "\n",
      "k=2: 346.546429\n",
      "\n",
      "k=3: 270.486461\n",
      "\n",
      "k=1: 241.209135\n",
      "\n",
      "k=4: 184.614744\n",
      "\n",
      "k=8: 174.184685\n",
      "\n"
     ]
    }
   ],
   "source": [
    "print(\"Nodes with highest average degree connectivity: \\n\")\n",
    "adc_high = sort_dictionary_by_value_desc(assort.average_degree_connectivity(graph))\n",
    "adc_high_count = Counter(adc_high)\n",
    "for k, v in adc_high_count.most_common(5):\n",
    "    print('k=%i: %f\\n' % (k, v))"
   ]
  },
  {
   "cell_type": "markdown",
   "metadata": {},
   "source": [
    "## Centrality\n",
    "\n",
    "### Degree\n",
    "\n",
    "The <b>degree centrality</b> for a node v is the fraction of nodes it is connected to.<br/>\n",
    "The <b>in-degree centrality</b> for a node v is the fraction of nodes its incoming edges are connected to.<br/>\n",
    "The <b>out-degree centrality</b> for a node v is the fraction of nodes its outgoing edges are connected to."
   ]
  },
  {
   "cell_type": "code",
   "execution_count": 14,
   "metadata": {
    "collapsed": false
   },
   "outputs": [
    {
     "name": "stdout",
     "output_type": "stream",
     "text": [
      "Nodes with highest degree centrality: \n",
      "\n",
      "zakon o vladi: 0.276809\n",
      "\n",
      "zakon o planiranju i izgradnji: 0.059184\n",
      "\n",
      "zakon o radu: 0.057514\n",
      "\n",
      "zakon o zastiti zivotne sredine: 0.056030\n",
      "\n",
      "zakon o carinskoj tarifi: 0.053618\n",
      "\n"
     ]
    }
   ],
   "source": [
    "print(\"Nodes with highest degree centrality: \\n\")\n",
    "dc_high = sort_dictionary_by_value_desc(central.degree_centrality(graph))\n",
    "dc_high_count = Counter(dc_high)\n",
    "for k, v in dc_high_count.most_common(5):\n",
    "    print('%s: %f\\n' % (num_doc_mapper[k], v))"
   ]
  },
  {
   "cell_type": "code",
   "execution_count": 15,
   "metadata": {
    "collapsed": false
   },
   "outputs": [
    {
     "name": "stdout",
     "output_type": "stream",
     "text": [
      "Nodes with highest in-degree centrality: \n",
      "\n",
      "zakon o vladi: 0.274954\n",
      "\n",
      "zakon o radu: 0.053803\n",
      "\n",
      "zakon o carinskoj tarifi: 0.053618\n",
      "\n",
      "zakon o planiranju i izgradnji: 0.052690\n",
      "\n",
      "zakon o zastiti zivotne sredine: 0.052319\n",
      "\n",
      "\n",
      "\n",
      "Nodes with highest out-degree centrality: \n",
      "\n",
      "strategija prevencije i zastite od diskriminacije: 0.014100\n",
      "\n",
      "zakljucak (o usvajanju nacionalnog akcionog plana za koriscenje obnovljivih izvora energije republike srbije): 0.013544\n",
      "\n",
      "zakljucak o usvajanju treceg akcionog plana za energetsku efikasnost republike srbije za period do 2018. godine: 0.012430\n",
      "\n",
      "uredba o utvrdjivanju prostornog plana podrucja posebne namene za infrastrukturni koridor visokonaponskog dalekovoda 110 kv broj 113/x od ts nis 1 do vrle III: 0.011874\n",
      "\n",
      "strategija reforme javne uprave u republici srbiji: 0.010946\n",
      "\n"
     ]
    }
   ],
   "source": [
    "print(\"Nodes with highest in-degree centrality: \\n\")\n",
    "idc_high = sort_dictionary_by_value_desc(central.in_degree_centrality(graph))\n",
    "idc_high_count = Counter(idc_high)\n",
    "for k, v in idc_high_count.most_common(5):\n",
    "    print('%s: %f\\n' % (num_doc_mapper[k], v))\n",
    "    \n",
    "print(\"\\n\\nNodes with highest out-degree centrality: \\n\")\n",
    "odc_high = sort_dictionary_by_value_desc(central.out_degree_centrality(graph))\n",
    "odc_high_count = Counter(odc_high)\n",
    "for k, v in odc_high_count.most_common(5):\n",
    "    print('%s: %f\\n' % (num_doc_mapper[k], v))"
   ]
  },
  {
   "cell_type": "markdown",
   "metadata": {},
   "source": [
    "### Closeness\n",
    "\n",
    "Closenes centrality of a node u is the reciprocal of the sum of the shortest path distances form u to all n-1 other nodes."
   ]
  },
  {
   "cell_type": "code",
   "execution_count": 16,
   "metadata": {
    "collapsed": false
   },
   "outputs": [
    {
     "name": "stdout",
     "output_type": "stream",
     "text": [
      "Nodes with highest closeness centrality: \n",
      "\n",
      "uredba o utvrdjivanju programa implementacije regionalnog prostornog plana za podrucje kolubarskog i macvanskog upravnog okruga za period od 2016. do 2020. godine: 0.045991\n",
      "\n",
      "zakljucak o usvajanju treceg akcionog plana za energetsku efikasnost republike srbije za period do 2018. godine: 0.044253\n",
      "\n",
      "fiskalna strategija za 2017. godinu sa projekcijama za 2018. i 2019. godinu: 0.043037\n",
      "\n",
      "uredba o utvrdjivanju prostornog plana podrucja posebne namene infrastrukturnog koridora visokonaponskog dalekovoda 2h110 kV kraljevo 3  novi pazar 1: 0.042429\n",
      "\n",
      "uredba o utvrdjivanju regionalnog prostornog plana za podrucje sumadijskog, pomoravskog, raskog i rasinskog upravnog okruga: 0.041519\n",
      "\n"
     ]
    }
   ],
   "source": [
    "print(\"Nodes with highest closeness centrality: \\n\")\n",
    "cc_high = sort_dictionary_by_value_desc(central.closeness_centrality(graph))\n",
    "cc_high_count = Counter(cc_high)\n",
    "for k, v in cc_high_count.most_common(5):\n",
    "    print('%s: %f\\n' % (num_doc_mapper[k], v))"
   ]
  },
  {
   "cell_type": "markdown",
   "metadata": {},
   "source": [
    "### Betweenness\n",
    "\n",
    "Computing the shortest-path betweenness centrality for nodes. Betweenness centrality of a node v is the sum of the fraction of all-pairs shortest paths that pass through v."
   ]
  },
  {
   "cell_type": "code",
   "execution_count": 17,
   "metadata": {
    "collapsed": false
   },
   "outputs": [
    {
     "name": "stdout",
     "output_type": "stream",
     "text": [
      "Nodes with lowest betweenness centrality: \n",
      "\n",
      "uredba o utvrdjivanju izvornika velikog i malog grba, izvornika zastave i notnog zapisa himne republike srbije: 0.000000\n",
      "\n",
      "uredba o blizim kriterijumima, nacinu i uslovima za izvodjenje himne republike srbije: 0.000000\n",
      "\n",
      "pravilnik o upotrebi grba, zastave i himne republike srbije u diplomatsko-konzularnim predstavnistvima republike srbije i na zvanicnim dokumentima ministarstva spoljnih poslova: 0.000000\n",
      "\n",
      "pravilnik o blizim uslovima za cuvanje, upravljanje i distribuciju krvi i komponenata krvi: 0.000000\n",
      "\n",
      "zakljucak o upotrebi grba, zastave i himne republike srbije: 0.000000\n",
      "\n"
     ]
    }
   ],
   "source": [
    "print(\"Nodes with lowest betweenness centrality: \\n\")\n",
    "bc_low = sort_dictionary_by_value_asc(central.betweenness_centrality(graph))\n",
    "bc_low_count = islice(bc_low.items(), 0, 5)\n",
    "for k, v in bc_low_count:\n",
    "    print('%s: %f\\n' % (num_doc_mapper[k], v))"
   ]
  },
  {
   "cell_type": "markdown",
   "metadata": {},
   "source": [
    "### Page Rank\n",
    "\n",
    "PageRank computes a ranking of the nodes in the graph based on the structure of the incoming links. "
   ]
  },
  {
   "cell_type": "code",
   "execution_count": 18,
   "metadata": {
    "collapsed": false
   },
   "outputs": [
    {
     "name": "stdout",
     "output_type": "stream",
     "text": [
      "Nodes with highest PageRank values: \n",
      "\n",
      "zakon o privrednim drustvima: 0.030091\n",
      "\n",
      "zakon o vladi: 0.026844\n",
      "\n",
      "zakon o opstem upravnom postupku: 0.026440\n",
      "\n",
      "zakon o preduzecima: 0.025308\n",
      "\n",
      "zakon o radu: 0.014170\n",
      "\n",
      "zakon o obligacionim odnosima: 0.013392\n",
      "\n",
      "ustav republike srbije: 0.011158\n",
      "\n",
      "zakon o drzavnoj upravi: 0.011156\n",
      "\n",
      "zakon o zastiti podataka o licnosti: 0.011069\n",
      "\n",
      "zakon o drzavnim sluzbenicima: 0.010073\n",
      "\n"
     ]
    }
   ],
   "source": [
    "# highest PR\n",
    "print(\"Nodes with highest PageRank values: \\n\")\n",
    "pr_high = sort_dictionary_by_value_desc(nx.algorithms.pagerank(graph))\n",
    "pr_high_count = Counter(pr_high)\n",
    "for k, v in pr_high_count.most_common(10):\n",
    "    print('%s: %f\\n' % (num_doc_mapper[k], v))"
   ]
  },
  {
   "cell_type": "code",
   "execution_count": 19,
   "metadata": {
    "collapsed": false
   },
   "outputs": [
    {
     "name": "stdout",
     "output_type": "stream",
     "text": [
      "Nodes with lowest PageRank values: \n",
      "\n",
      "uredba o utvrdjivanju izvornika velikog i malog grba, izvornika zastave i notnog zapisa himne republike srbije: 0.000042\n",
      "\n",
      "uredba o blizim kriterijumima, nacinu i uslovima za izvodjenje himne republike srbije: 0.000042\n",
      "\n",
      "pravilnik o upotrebi grba, zastave i himne republike srbije u diplomatsko-konzularnim predstavnistvima republike srbije i na zvanicnim dokumentima ministarstva spoljnih poslova: 0.000042\n",
      "\n",
      "pravilnik o blizim uslovima za cuvanje, upravljanje i distribuciju krvi i komponenata krvi: 0.000042\n",
      "\n",
      "zakljucak o upotrebi grba, zastave i himne republike srbije na sportskim takmicenjima na kojima ucestvuju reprezentativci, odnosno reprezentacije republike srbije: 0.000042\n",
      "\n",
      "pravilnik o sistemu pracenja, nacinu oznacavanja i drugim pitanjima od znacaja za identifikaciju svakog pojedinacnog uzimanja krvi, odnosno pojedinacne jedinice krvi, kao i o nacinu, postupku i sadrzaju obrasca za prijavljivanje ozbiljnih nezeljenih dogadjaja, odnosno ozbiljnih nezeljenih reakcija: 0.000042\n",
      "\n",
      "pravilnik o nacinu upisa cinjenice drzavljanstva u maticnu knjigu rodjenih, obrascima za vodjenje evidencija o resenjima o sticanju i prestanku drzavljanstva i obrascu uverenja o drzavljanstvu: 0.000042\n",
      "\n",
      "pravilnik o obrascu pismene izjave da se republika srbija smatra svojom drzavom: 0.000042\n",
      "\n",
      "pravilnik o sadrzaju obrasca izjave o pristanku primaoca organa za presadjivanje organa: 0.000042\n",
      "\n",
      "odluka o proglasenju dana nauke u republici srbiji: 0.000042\n",
      "\n"
     ]
    }
   ],
   "source": [
    "# lowest PR\n",
    "print(\"Nodes with lowest PageRank values: \\n\")\n",
    "pr_low = sort_dictionary_by_value_asc(nx.algorithms.pagerank(graph))\n",
    "pr_low_count = islice(pr_low.items(), 0, 10)\n",
    "for k,  v in pr_low_count:\n",
    "    print('%s: %f\\n' % (num_doc_mapper[k], v))"
   ]
  },
  {
   "cell_type": "markdown",
   "metadata": {},
   "source": [
    "### Katz \n",
    "\n",
    "Katz centrality computes the centrality for a node based on the centrality of its neigbors. It is a generalization of the eigenvector centrality."
   ]
  },
  {
   "cell_type": "code",
   "execution_count": 20,
   "metadata": {
    "collapsed": false
   },
   "outputs": [
    {
     "name": "stdout",
     "output_type": "stream",
     "text": [
      "Nodes with highest Katz centrality: \n",
      "\n",
      "zakon o opstem upravnom postupku: 0.345748\n",
      "\n",
      "zakon o privrednim drustvima: 0.284821\n",
      "\n",
      "zakon o obligacionim odnosima: 0.269988\n",
      "\n",
      "zakon o izvrsenju i obezbedjenju: 0.226137\n",
      "\n",
      "zakon o radu: 0.198223\n",
      "\n",
      "porodicni zakon: 0.176478\n",
      "\n",
      "zakon o trzistu kapitala: 0.176414\n",
      "\n",
      "zakon o parnicnom postupku: 0.171455\n",
      "\n",
      "krivicni zakonik: 0.170135\n",
      "\n",
      "zakon o tajnosti podataka: 0.165140\n",
      "\n"
     ]
    }
   ],
   "source": [
    "# highest K\n",
    "print(\"Nodes with highest Katz centrality: \\n\")\n",
    "k_high = sort_dictionary_by_value_desc(nx.katz_centrality_numpy(graph))\n",
    "k_high_count = Counter(k_high)\n",
    "for k, v in k_high_count.most_common(10):\n",
    "    print ('%s: %f\\n' % (num_doc_mapper[k], v))"
   ]
  },
  {
   "cell_type": "code",
   "execution_count": 21,
   "metadata": {
    "collapsed": false
   },
   "outputs": [
    {
     "name": "stdout",
     "output_type": "stream",
     "text": [
      "Nodes with lowest Katz centrality: \n",
      "\n",
      "zakon o vladi: -0.050060\n",
      "\n",
      "zakon o predsedniku republike: -0.004407\n",
      "\n",
      "zakon o strateskoj proceni uticaja na zivotnu sredinu: -0.002881\n",
      "\n",
      "zakon o carinskoj tarifi: -0.002708\n",
      "\n",
      "pravilnik o proglasenju i zastiti strogo zasticenih i zasticenih divljih vrsta biljaka, zivotinja i gljiva: -0.002605\n",
      "\n",
      "zakon o bezbednosti i interoperabilnosti zeleznice: -0.002590\n",
      "\n",
      "zakon o zeleznici: -0.002408\n",
      "\n",
      "zakon o zastiti prirode: -0.002378\n",
      "\n",
      "zakon o transportu opasnog tereta: -0.002358\n",
      "\n",
      "zakon o metrologiji: -0.002186\n",
      "\n"
     ]
    }
   ],
   "source": [
    "# lowest Katz\n",
    "print(\"Nodes with lowest Katz centrality: \\n\")\n",
    "k_low = sort_dictionary_by_value_asc(nx.katz_centrality_numpy(graph))\n",
    "k_low_count = islice(k_low.items(), 0, 10)\n",
    "for k, v in k_low_count:\n",
    "    print('%s: %f\\n' % (num_doc_mapper[k], v))"
   ]
  },
  {
   "cell_type": "markdown",
   "metadata": {},
   "source": [
    "### Eigenvector\n",
    "\n",
    "Eigenvector centrality computes the centrality for a node based on the centrality of its neighbors. "
   ]
  },
  {
   "cell_type": "code",
   "execution_count": 22,
   "metadata": {
    "collapsed": false
   },
   "outputs": [
    {
     "name": "stdout",
     "output_type": "stream",
     "text": [
      "Nodes with highest Eigenvector centrality: \n",
      "\n",
      "zakon o opstem upravnom postupku: 0.356343\n",
      "\n",
      "zakon o privrednim drustvima: 0.279929\n",
      "\n",
      "zakon o obligacionim odnosima: 0.260806\n",
      "\n",
      "zakon o izvrsenju i obezbedjenju: 0.211835\n",
      "\n",
      "zakon o radu: 0.210844\n",
      "\n",
      "porodicni zakon: 0.166009\n",
      "\n",
      "krivicni zakonik: 0.165831\n",
      "\n",
      "zakon o tajnosti podataka: 0.163596\n",
      "\n",
      "zakon o trzistu kapitala: 0.162711\n",
      "\n",
      "zakon o parnicnom postupku: 0.159535\n",
      "\n"
     ]
    }
   ],
   "source": [
    "# highest ev\n",
    "print(\"Nodes with highest Eigenvector centrality: \\n\")\n",
    "ev_high = sort_dictionary_by_value_desc(nx.eigenvector_centrality(graph))\n",
    "ev_high_count = Counter(ev_high)\n",
    "for k, v in ev_high_count.most_common(10):\n",
    "    print('%s: %f\\n' % (num_doc_mapper[k], v))"
   ]
  },
  {
   "cell_type": "code",
   "execution_count": 23,
   "metadata": {
    "collapsed": false
   },
   "outputs": [
    {
     "name": "stdout",
     "output_type": "stream",
     "text": [
      "Nodes with lowest Eigenvector centrality: \n",
      "\n",
      "zakon o zdravstvenoj dokumentaciji i evidencijama u oblasti zdravstva: 0.000000\n",
      "\n",
      "uredba o utvrdjivanju izvornika velikog i malog grba, izvornika zastave i notnog zapisa himne republike srbije: 0.000000\n",
      "\n",
      "uredba o blizim kriterijumima, nacinu i uslovima za izvodjenje himne republike srbije: 0.000000\n",
      "\n",
      "pravilnik o upotrebi grba, zastave i himne republike srbije u diplomatsko-konzularnim predstavnistvima republike srbije i na zvanicnim dokumentima ministarstva spoljnih poslova: 0.000000\n",
      "\n",
      "pravilnik o blizim uslovima za cuvanje, upravljanje i distribuciju krvi i komponenata krvi: 0.000000\n",
      "\n",
      "zakljucak o upotrebi grba, zastave i himne republike srbije: 0.000000\n",
      "\n",
      "zakljucak o upotrebi grba, zastave i himne republike srbije na sportskim takmicenjima na kojima ucestvuju reprezentativci, odnosno reprezentacije republike srbije: 0.000000\n",
      "\n",
      "pravilnik o sistemu pracenja, nacinu oznacavanja i drugim pitanjima od znacaja za identifikaciju svakog pojedinacnog uzimanja krvi, odnosno pojedinacne jedinice krvi, kao i o nacinu, postupku i sadrzaju obrasca za prijavljivanje ozbiljnih nezeljenih dogadjaja, odnosno ozbiljnih nezeljenih reakcija: 0.000000\n",
      "\n",
      "pravilnik o nacinu upisa cinjenice drzavljanstva u maticnu knjigu rodjenih, obrascima za vodjenje evidencija o resenjima o sticanju i prestanku drzavljanstva i obrascu uverenja o drzavljanstvu: 0.000000\n",
      "\n",
      "pravilnik o obrascu pismene izjave da se republika srbija smatra svojom drzavom: 0.000000\n",
      "\n"
     ]
    }
   ],
   "source": [
    "# lowest ev\n",
    "print(\"Nodes with lowest Eigenvector centrality: \\n\")\n",
    "ev_low = sort_dictionary_by_value_asc(nx.eigenvector_centrality(graph))\n",
    "ev_low_count = islice(ev_low.items(),0, 10)\n",
    "for k, v in ev_low_count:\n",
    "    print ('%s: %f\\n' % (num_doc_mapper[k], v))"
   ]
  },
  {
   "cell_type": "markdown",
   "metadata": {},
   "source": [
    "## Clustering\n",
    "\n",
    "Graph transivity is the fraction of all possible triangles present in graph. Possible triangles are identified by the number of triads(two edges with a shared vertex)."
   ]
  },
  {
   "cell_type": "code",
   "execution_count": 24,
   "metadata": {
    "collapsed": false
   },
   "outputs": [
    {
     "name": "stdout",
     "output_type": "stream",
     "text": [
      "Global Clustering Coefficient: 0.09853584921815632\n"
     ]
    }
   ],
   "source": [
    "print(\"Global Clustering Coefficient: {0}\".format(nx.transitivity(graph)))"
   ]
  },
  {
   "cell_type": "markdown",
   "metadata": {},
   "source": [
    "## Community Detection\n",
    "\n",
    "<a href=\"http://www.kazemjahanbakhsh.com/codes/cmty.html\">Girvan-Newman algorithm</a> to detect communities with maximum modularity. "
   ]
  },
  {
   "cell_type": "code",
   "execution_count": 80,
   "metadata": {
    "collapsed": false
   },
   "outputs": [
    {
     "name": "stdout",
     "output_type": "stream",
     "text": [
      "Total number of communities: 141\n"
     ]
    }
   ],
   "source": [
    "dendogram = this_igraph.community_walktrap(steps=10)\n",
    "clusters = dendogram.as_clustering()\n",
    "membership = clusters.membership\n",
    "memberships_dict = {}\n",
    "for name, membership in zip(this_igraph.vs[\"name\"], membership):\n",
    "    if membership not in memberships_dict:\n",
    "        memberships_dict[membership] = []\n",
    "    memberships_dict[membership].append(num_doc_mapper[int(name)])\n",
    "print(\"Total number of communities: {0}\".format(len(memberships_dict)))\n",
    "# number of members \n",
    "memership_nums = {}\n",
    "for k in memberships_dict:\n",
    "    memership_nums[k] = len(memberships_dict[k])"
   ]
  },
  {
   "cell_type": "code",
   "execution_count": 81,
   "metadata": {
    "collapsed": false
   },
   "outputs": [
    {
     "name": "stdout",
     "output_type": "stream",
     "text": [
      "Communities with most members: \n",
      "\n",
      "\n",
      "Community 0 with 1687 members:\n",
      "\n",
      "Community 7 with 985 members:\n",
      "\n",
      "Community 1 with 502 members:\n",
      "\n",
      "Community 3 with 334 members:\n",
      "\n",
      "Community 6 with 288 members:\n"
     ]
    }
   ],
   "source": [
    "# top communities\n",
    "print(\"Communities with most members: \\n\")\n",
    "mem_num_high = sort_dictionary_by_value_desc(memership_nums)\n",
    "mem_num_high_count = Counter(mem_num_high)\n",
    "for k, v in mem_num_high_count.most_common(5):\n",
    "    print('\\nCommunity %i with %i members:' % (k, v))\n",
    "    #print(memberships_dict[k])"
   ]
  },
  {
   "cell_type": "code",
   "execution_count": 82,
   "metadata": {
    "collapsed": false
   },
   "outputs": [
    {
     "name": "stdout",
     "output_type": "stream",
     "text": [
      "Communities with least members: \n",
      "\n",
      "\n",
      "Community 60 with 1 members:\n",
      "['uputstvo o nacinu pretvaranja kredita odobrenih od banaka nosiocima primarne poljoprivredne proizvodnje i turisticke privrede u javni dug federacije']\n",
      "\n",
      "Community 92 with 1 members:\n",
      "['zakon o davanju kontragarancije republike srbije srbiji i crnoj gori po zajmu evropske zajednice za izmirenje dospelih a neplacenih ugovornih obaveza prema evropskoj investicionoj banci']\n",
      "\n",
      "Community 5 with 2 members:\n",
      "['pravilnik o nacinu vodjenja evidencije o clanovima porodice lica na obaveznoj vojnoj sluzbi', 'zakon o ostvarivanju zastite clanova porodice lica na obaveznoj vojnoj sluzbi']\n",
      "\n",
      "Community 10 with 2 members:\n",
      "['pravilnik o nacinu nosenja uniforme policijskih sluzbenika', 'uredba o izgledu uniforme i oznaka policijskih sluzbenika']\n",
      "\n",
      "Community 11 with 2 members:\n",
      "['zakljucak o upotrebi grba, zastave i himne republike srbije na sportskim takmicenjima na kojima ucestvuju reprezentativci, odnosno reprezentacije republike srbije', 'zakljucak o upotrebi grba, zastave i himne republike srbije']\n"
     ]
    }
   ],
   "source": [
    "# bottom communities\n",
    "print(\"Communities with least members: \\n\")\n",
    "mem_num_low = sort_dictionary_by_value_asc(memership_nums)\n",
    "mem_num_low_count = islice(mem_num_low.items(), 0, 5)\n",
    "for k, v in mem_num_low_count:\n",
    "    print('\\nCommunity %i with %i members:' % (k, v))\n",
    "    print(memberships_dict[k])"
   ]
  },
  {
   "cell_type": "code",
   "execution_count": null,
   "metadata": {
    "collapsed": true
   },
   "outputs": [],
   "source": []
  }
 ],
 "metadata": {
  "kernelspec": {
   "display_name": "Python 3",
   "language": "python",
   "name": "python3"
  },
  "language_info": {
   "codemirror_mode": {
    "name": "ipython",
    "version": 3
   },
   "file_extension": ".py",
   "mimetype": "text/x-python",
   "name": "python",
   "nbconvert_exporter": "python",
   "pygments_lexer": "ipython3",
   "version": "3.4.3"
  }
 },
 "nbformat": 4,
 "nbformat_minor": 0
}
